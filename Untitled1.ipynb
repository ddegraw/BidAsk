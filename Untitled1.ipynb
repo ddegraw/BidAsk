{
 "cells": [
  {
   "cell_type": "code",
   "execution_count": 2,
   "metadata": {
    "collapsed": false
   },
   "outputs": [
    {
     "ename": "ImportError",
     "evalue": "cannot import name MLPClassifier",
     "output_type": "error",
     "traceback": [
      "\u001b[1;31m---------------------------------------------------------------------------\u001b[0m",
      "\u001b[1;31mImportError\u001b[0m                               Traceback (most recent call last)",
      "\u001b[1;32m<ipython-input-2-d5f4ed0214c1>\u001b[0m in \u001b[0;36m<module>\u001b[1;34m()\u001b[0m\n\u001b[0;32m     14\u001b[0m \u001b[1;32mfrom\u001b[0m \u001b[0mkeras\u001b[0m\u001b[1;33m.\u001b[0m\u001b[0moptimizers\u001b[0m \u001b[1;32mimport\u001b[0m \u001b[0mSGD\u001b[0m\u001b[1;33m,\u001b[0m \u001b[0mrmsprop\u001b[0m\u001b[1;33m\u001b[0m\u001b[0m\n\u001b[0;32m     15\u001b[0m \u001b[1;32mfrom\u001b[0m \u001b[0mkeras\u001b[0m\u001b[1;33m.\u001b[0m\u001b[0mregularizers\u001b[0m \u001b[1;32mimport\u001b[0m \u001b[0ml1\u001b[0m\u001b[1;33m,\u001b[0m \u001b[0ml2\u001b[0m\u001b[1;33m,\u001b[0m \u001b[0mactivity_l2\u001b[0m\u001b[1;33m\u001b[0m\u001b[0m\n\u001b[1;32m---> 16\u001b[1;33m \u001b[1;32mfrom\u001b[0m \u001b[0msklearn\u001b[0m\u001b[1;33m.\u001b[0m\u001b[0mneural_network\u001b[0m \u001b[1;32mimport\u001b[0m \u001b[0mMLPClassifier\u001b[0m\u001b[1;33m\u001b[0m\u001b[0m\n\u001b[0m\u001b[0;32m     17\u001b[0m \u001b[1;33m\u001b[0m\u001b[0m\n\u001b[0;32m     18\u001b[0m \u001b[1;33m\u001b[0m\u001b[0m\n",
      "\u001b[1;31mImportError\u001b[0m: cannot import name MLPClassifier"
     ]
    }
   ],
   "source": [
    "#from blpfunctions \n",
    "import blpfunctions as blp\n",
    "import pandas as pd\n",
    "import numpy as np\n",
    "import matplotlib.pyplot as plt\n",
    "from sklearn.metrics import roc_curve, auc\n",
    "from sklearn.linear_model import LogisticRegression\n",
    "from sklearn import metrics\n",
    "from sklearn.cross_validation import train_test_split\n",
    "from keras.models import Sequential\n",
    "from keras.layers import Dense, Dropout, Activation\n",
    "from keras.layers import Embedding\n",
    "from keras.layers import LSTM\n",
    "from keras.optimizers import SGD, rmsprop\n",
    "from keras.regularizers import l1, l2, activity_l2\n",
    "from sklearn.neural_network import MLPClassifier\n",
    "\n",
    "\n",
    "def proc_bidask(sec, start, end, quant=0.5):\n",
    "    event = ['BID','ASK','TRADE']\n",
    "\n",
    "    bidask = pd.DataFrame()\n",
    "    #for sec in secs:\n",
    "    bidask=blp.get_Ticks(sec,event,start,end)\n",
    "    #bidask=bidask.combine_first(df) \n",
    "\n",
    "    bidask['ind'] = np.zeros(len(bidask.index))\n",
    "    bidask['trdind'] = pd.Series(np.nan,index=bidask.index)\n",
    "    bidask['spr'] = np.zeros(len(bidask.index))\n",
    "    for i in range(len(bidask.index)):\n",
    "        if bidask['type'][i] == 'BID':\n",
    "            bidvol = bidask['size'][i]\n",
    "            bidprc = bidask['price'][i]\n",
    "        elif bidask['type'][i] == 'ASK':\n",
    "            askvol = bidask['size'][i]\n",
    "            askprc = bidask['price'][i]\n",
    "        elif bidask['type'][i] == 'TRADE':\n",
    "            if 'askprc' not in vars() or 'bidprc' not in vars():\n",
    "                continue\n",
    "            bidask['ind'].iloc[i] = (bidvol - askvol)/(1.0*(askvol + bidvol))\n",
    "            bidask['spr'].iloc[i] = 20000.0*(askprc - bidprc)/(1.0*(bidprc + askprc))\n",
    "            trdvol = bidask['size'][i]\n",
    "            trdprc = bidask['price'][i]\n",
    "            if trdprc == askprc:\n",
    "                bidask['trdind'].iloc[i] = 1\n",
    "            else:\n",
    "                bidask['trdind'].iloc[i] = 0\n",
    "              \n",
    "    #look at only trades in the top 50%ile, drop first and last trades\n",
    "    bar = bidask.dropna()\n",
    "    bar = bar.drop(bar.index[0])\n",
    "    bar = bar.drop(bar.index[-1])\n",
    "    #foo = bar.loc[bar['size'] > bar['size'].quantile(q=quant)]\n",
    "    inputs = pd.DataFrame(bar.loc[:,['ind','size']])\n",
    "    #foo = bar.loc[:,['ind','size']]\n",
    "    outputs = bar['trdind']\n",
    "    #Split the dataset into training and testing\n",
    "    #Xtrain, Xtest = train_test_split(foo['ind'], test_size = testsize)\n",
    "    #ytrain, ytest = train_test_split(foo['trdind'], test_size = testsize)\n",
    "    #Xtrain = pd.DataFrame(Xtrain)\n",
    "    #Xtest = pd.DataFrame(Xtest)\n",
    "    \n",
    "    return inputs, outputs\n",
    "\n",
    "#plt.scatter(foo['ind'],foo['trdind'],s=100*(foo['size']-foo['size'].mean())/foo['size'].std())\n",
    "#plt.show()\n",
    "\n",
    "secs = '2768 JP Equity'\n",
    "#ind = \"NKY Index\"\n",
    "#sec_list = blp.get_index(ind)\n",
    "amstart = \"2016-04-11T09:00:00\"\n",
    "amend = \"2016-04-11T11:30:00\" \n",
    "pmstart = \"2016-04-11T12:30:00\"\n",
    "pmend = \"2016-04-11T15:00:00\" \n",
    "\n",
    "roclist = []\n",
    "iceptlist = []\n",
    "coefflist = []\n",
    "\n",
    "Xtrain, ytrain = proc_bidask(secs, amstart, amend)\n",
    "Xtest, ytest = proc_bidask(secs, pmstart, pmend)\n",
    "ytrain=ytrain.as_matrix().transpose()\n",
    "ytest=ytest.as_matrix().transpose()\n",
    "'''\n",
    "model = Sequential()\n",
    "model.add(Dense(2, input_shape=(2,), init='uniform', activation ='linear'))\n",
    "#model.add(Dropout(0.001))\n",
    "model.add(Dense(3, activation ='sigmoid'))\n",
    "#model.add(Dropout(0.001))\n",
    "model.add(Dense(1, activation='hard_sigmoid'))\n",
    "rms = rmsprop(lr=0.01)\n",
    "model.compile(optimizer=rms,\n",
    "              loss='binary_crossentropy',\n",
    "              metrics=['accuracy'])\n",
    "\n",
    "\n",
    "model.fit(Xtrain.as_matrix(), ytrain, nb_epoch=100, batch_size=256)\n",
    "score = model.evaluate(Xtest.as_matrix(),ytest, verbose=0)\n",
    "disb = model.predict_proba(Xtest.as_matrix())\n",
    "\n",
    "print('Loss Test score:',    score[0])\n",
    "print('Accuracy Test score:',    score[1])\n",
    "'''\n",
    "clf = MLPClassifier(algorithm='l-bfgs', alpha=1e-5, hidden_layer_sizes=(5, 2), random_state=1)\n",
    "#clf = LogisticRegression()\n",
    "clf.fit(Xtrain, ytrain)\n",
    "#b = lg.intercept_\n",
    "#m = lg.coef_\n",
    "disbursed=clf.predict_proba(Xtest)\n",
    "fpr, tpr, _ = roc_curve(ytest, disbursed[:,1])\n",
    "roc_auc = auc(fpr, tpr)\n",
    "\n",
    "plt.title('Receiver Operating Characteristic')\n",
    "plt.plot(fpr, tpr, 'b', label='AUC = %0.2f'% roc_auc)\n",
    "plt.legend(loc='lower right')\n",
    "plt.plot([0,1],[0,1],'r--')\n",
    "plt.xlim([-0.1,1.1])\n",
    "plt.ylim([-0.1,1.1])\n",
    "plt.ylabel('True Positive Rate')\n",
    "plt.xlabel('False Positive Rate')"
   ]
  },
  {
   "cell_type": "code",
   "execution_count": 1,
   "metadata": {
    "collapsed": false
   },
   "outputs": [
    {
     "ename": "SyntaxError",
     "evalue": "invalid syntax (<ipython-input-1-4eec5ea13e92>, line 1)",
     "output_type": "error",
     "traceback": [
      "\u001b[1;36m  File \u001b[1;32m\"<ipython-input-1-4eec5ea13e92>\"\u001b[1;36m, line \u001b[1;32m1\u001b[0m\n\u001b[1;33m    OMP_NUM_THREADS=1 python theano/misc/check_blas.py -q\u001b[0m\n\u001b[1;37m                           ^\u001b[0m\n\u001b[1;31mSyntaxError\u001b[0m\u001b[1;31m:\u001b[0m invalid syntax\n"
     ]
    }
   ],
   "source": [
    "OMP_NUM_THREADS=1 python theano/misc/check_blas.py -q"
   ]
  },
  {
   "cell_type": "code",
   "execution_count": null,
   "metadata": {
    "collapsed": true
   },
   "outputs": [],
   "source": []
  }
 ],
 "metadata": {
  "kernelspec": {
   "display_name": "Python 2",
   "language": "python",
   "name": "python2"
  },
  "language_info": {
   "codemirror_mode": {
    "name": "ipython",
    "version": 2
   },
   "file_extension": ".py",
   "mimetype": "text/x-python",
   "name": "python",
   "nbconvert_exporter": "python",
   "pygments_lexer": "ipython2",
   "version": "2.7.11"
  }
 },
 "nbformat": 4,
 "nbformat_minor": 0
}
